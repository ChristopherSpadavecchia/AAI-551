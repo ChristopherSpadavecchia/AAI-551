{
 "cells": [
  {
   "cell_type": "code",
   "execution_count": 56,
   "id": "0409d1a4-2088-4ce1-85d3-e01ea1f753a4",
   "metadata": {},
   "outputs": [],
   "source": [
    "class Card:\n",
    "    suit_list = [\"Clubs\", \"Diamonds\", \"Hearts\", \"Spades\"]\n",
    "    rank_list = [\"None\", \"Ace\", \"2\", \"3\", \"4\", \"5\", \"6\", \"7\", \"8\", \"9\", \"10\", \"Jack\", \"Queen\", \"King\"]\n",
    "    def __init__(self, suit = 0, rank = 2):\n",
    "        self.suit = suit\n",
    "        self.rank = rank\n",
    "    def __str__(self):\n",
    "        return(self.rank_list[self.rank] + \" of \" + self.suit_list[self.suit])\n",
    "    def __eq__(self, other):\n",
    "        return(self.rank == other.rank and self.suit == other.suit)\n",
    "    def __gt__(self, other):\n",
    "        if self.suit > other.suit:\n",
    "            return True\n",
    "        elif self.suit == other.suit:\n",
    "            if self.rank > other.rank:\n",
    "                return True\n",
    "        return False\n"
   ]
  },
  {
   "cell_type": "code",
   "execution_count": 67,
   "id": "f0f30b20-f14c-457e-980a-f6ec11ee990a",
   "metadata": {},
   "outputs": [],
   "source": [
    "import random\n",
    "class Deck:\n",
    "    def __init__(self):\n",
    "        self.cards = []\n",
    "        for suit in range(4):\n",
    "            for rank in range(1, 14):\n",
    "                self.cards.append(Card(suit, rank))\n",
    "    def __str__(self):\n",
    "        s = \"\"\n",
    "        for i in range(len(self.cards)):\n",
    "            s += i * \" \" + str(self.cards[i]) + \"\\n\"\n",
    "        return s\n",
    "    def shuffle(self):\n",
    "        n_cards = len(self.cards)\n",
    "        for i in range(n_cards):\n",
    "            j = random.randrange(0, n_cards)\n",
    "            self.cards[i], self.cards[j] = self.cards[j], self.cards[i]\n",
    "    def pop_card(self):\n",
    "        return self.cards.pop()\n",
    "    def is_empty(self):\n",
    "        return len(self.cards) == 0"
   ]
  },
  {
   "cell_type": "code",
   "execution_count": 68,
   "id": "8ce61f58-4062-4926-95a4-ba4984cf8488",
   "metadata": {},
   "outputs": [],
   "source": [
    "import random\n",
    "class Hand(Deck):\n",
    "    def __init__(self, name = \"\"):\n",
    "        self.cards = []\n",
    "        self.name = name\n",
    "    def add_card(self, card):\n",
    "        self.cards.append(card)\n",
    "    def __str__(self):\n",
    "        s = \"Hand \" + self.name\n",
    "        if self.is_empty():\n",
    "            return s + \"is empty\"\n",
    "        s += \" contains \\n\" + Deck.__str__(self)\n",
    "        return s\n"
   ]
  },
  {
   "cell_type": "code",
   "execution_count": 70,
   "id": "661c403b-30a2-443a-bb78-9841bae0faa5",
   "metadata": {},
   "outputs": [
    {
     "name": "stdout",
     "output_type": "stream",
     "text": [
      "🎴 Welcome to Higher or Lower! 🎴\n",
      "Try to guess if the next card will be higher or lower.\n",
      "\n",
      "Here's how the ranks work:\n",
      "Aces are valued at 1, Jacks at 11, Queens at 12, and Kings at 13.\n",
      "The rest of the cards are valued by their number (2-10).\n",
      "The suits are ranked from highest to lowest as follows:\n",
      "Spades ♠️ > Hearts ♥️ > Diamonds ♦️ > Clubs ♣️.\n",
      "Type 'h' for higher, 'l' for lower, or 'q' to quit.\n",
      "----------------------------------------\n",
      "Starting card: 10 of ♥️\n"
     ]
    },
    {
     "name": "stdin",
     "output_type": "stream",
     "text": [
      "Will the next card be higher (h) or lower (l)?  l\n"
     ]
    },
    {
     "name": "stdout",
     "output_type": "stream",
     "text": [
      "Next card: 6 of ♥️\n",
      "✅ Correct! Your score is now 1.\n"
     ]
    },
    {
     "name": "stdin",
     "output_type": "stream",
     "text": [
      "Will the next card be higher (h) or lower (l)?  h\n"
     ]
    },
    {
     "name": "stdout",
     "output_type": "stream",
     "text": [
      "Next card: 7 of ♦️\n",
      "✅ Correct! Your score is now 2.\n"
     ]
    },
    {
     "name": "stdin",
     "output_type": "stream",
     "text": [
      "Will the next card be higher (h) or lower (l)?  l\n"
     ]
    },
    {
     "name": "stdout",
     "output_type": "stream",
     "text": [
      "Next card: 2 of ♦️\n",
      "✅ Correct! Your score is now 3.\n"
     ]
    },
    {
     "name": "stdin",
     "output_type": "stream",
     "text": [
      "Will the next card be higher (h) or lower (l)?  h\n"
     ]
    },
    {
     "name": "stdout",
     "output_type": "stream",
     "text": [
      "Next card: 8 of ♦️\n",
      "✅ Correct! Your score is now 4.\n"
     ]
    },
    {
     "name": "stdin",
     "output_type": "stream",
     "text": [
      "Will the next card be higher (h) or lower (l)?  h\n"
     ]
    },
    {
     "name": "stdout",
     "output_type": "stream",
     "text": [
      "Next card: 7 of ♥️\n",
      "❌ Wrong! Game over. Your final score is 4.\n",
      "The highest score so far is 8!\n"
     ]
    },
    {
     "name": "stdin",
     "output_type": "stream",
     "text": [
      "Do you want to play again? (y/n):  n\n"
     ]
    },
    {
     "name": "stdout",
     "output_type": "stream",
     "text": [
      "🎉 Thanks for playing Higher or Lower! See you next time! 🎉\n"
     ]
    }
   ],
   "source": [
    "# This is a simple card game where you guess if the next card will be higher or lower than the current one.\n",
    "# Aces are valued as 1, Jacks as 11, Queens as 12, and Kings as 13. Try to get the highest score!\n",
    "#I pledge my Honor that I have abided my Stevens Honor System. - Christopher Spadavecchia\n",
    "import random\n",
    "\n",
    "class HigherOrLowerGame:\n",
    "    def __init__(self):\n",
    "        self.deck = Deck()\n",
    "        self.deck.shuffle()\n",
    "        self.current_card = None\n",
    "        self.score = 0\n",
    "        self.high_score = self.read_high_score()  # Read high score from file\n",
    "\n",
    "    def start_game(self):\n",
    "        print(\"🎴 Welcome to Higher or Lower! 🎴\")\n",
    "        print(\"Try to guess if the next card will be higher or lower.\")\n",
    "        print(\"\\nHere's how the ranks work:\")\n",
    "        print(\"Aces are valued at 1, Jacks at 11, Queens at 12, and Kings at 13.\")\n",
    "        print(\"The rest of the cards are valued by their number (2-10).\")\n",
    "        print(\"The suits are ranked from highest to lowest as follows:\")\n",
    "        print(\"Spades ♠️ > Hearts ♥️ > Diamonds ♦️ > Clubs ♣️.\")\n",
    "        print(\"Type 'h' for higher, 'l' for lower, or 'q' to quit.\")\n",
    "        print(\"-\" * 40)\n",
    "\n",
    "        # Reset the game state\n",
    "        self.deck = Deck()\n",
    "        self.deck.shuffle()\n",
    "        self.current_card = self.deck.pop_card()\n",
    "        self.score = 0\n",
    "\n",
    "        print(f\"Starting card: {self._format_card(self.current_card)}\")\n",
    "\n",
    "        # Main game loop\n",
    "        while not self.deck.is_empty():\n",
    "            guess = input(\"Will the next card be higher (h) or lower (l)? \").lower()\n",
    "\n",
    "            if guess == 'q':\n",
    "                print(\"You decided to quit. Thanks for playing! 🎉\")\n",
    "                break\n",
    "\n",
    "            if guess not in ['h', 'l']:\n",
    "                print(\"Invalid input! Please type 'h', 'l', or 'q'.\")\n",
    "                continue\n",
    "\n",
    "            # Deal the next card\n",
    "            next_card = self.deck.pop_card()\n",
    "            print(f\"Next card: {self._format_card(next_card)}\")\n",
    "\n",
    "            # Check the guess\n",
    "            if self.check_guess(guess, next_card):\n",
    "                self.score += 1\n",
    "                print(f\"✅ Correct! Your score is now {self.score}.\")\n",
    "            else:\n",
    "                print(f\"❌ Wrong! Game over. Your final score is {self.score}.\")\n",
    "                break\n",
    "\n",
    "            # Update the current card\n",
    "            self.current_card = next_card\n",
    "\n",
    "        # Update and display the high score\n",
    "        self.update_high_score()\n",
    "\n",
    "        if self.deck.is_empty():\n",
    "            print(\"No more cards in the deck! Game over.\")\n",
    "            print(f\"Your final score is {self.score}.\")\n",
    "\n",
    "        print(f\"The highest score so far is {self.high_score}!\")\n",
    "\n",
    "    def check_guess(self, guess, next_card):\n",
    "        \"\"\"Checks if the player's guess is correct.\"\"\"\n",
    "        if guess == 'h':\n",
    "            return next_card.rank > self.current_card.rank\n",
    "        elif guess == 'l':\n",
    "            return next_card.rank < self.current_card.rank\n",
    "\n",
    "    def update_high_score(self):\n",
    "        \"\"\"Updates the high score if the current score is greater.\"\"\"\n",
    "        if self.score > self.high_score:\n",
    "            self.high_score = self.score\n",
    "            print(\"🏆 Congratulations! You set a new high score!\")\n",
    "            self.write_high_score()  \n",
    "\n",
    "    def read_high_score(self):\n",
    "        \"\"\"Reads the high score from the file. If file doesn't exist, create it with 0.\"\"\"\n",
    "        try:\n",
    "            with open(\"high_score.txt\", \"r\") as file:\n",
    "                return int(file.read().strip())\n",
    "        except (FileNotFoundError, ValueError):\n",
    "            # If the file doesn't exist or contains invalid data, create the file with a score of 0\n",
    "            with open(\"high_score.txt\", \"w\") as file:\n",
    "                file.write(\"0\")\n",
    "            return 0  \n",
    "\n",
    "    def write_high_score(self):\n",
    "        \"\"\"Writes the current high score to the file.\"\"\"\n",
    "        with open(\"high_score.txt\", \"w\") as file:\n",
    "            file.write(str(self.high_score))\n",
    "\n",
    "    def _format_card(self, card):\n",
    "        \"\"\"Formats a card for display.\"\"\"\n",
    "        suit_colors = {\n",
    "            \"Clubs\": \"♣️\",\n",
    "            \"Diamonds\": \"♦️\",\n",
    "            \"Hearts\": \"♥️\",\n",
    "            \"Spades\": \"♠️\",\n",
    "        }\n",
    "        rank_name = Card.rank_list[card.rank]\n",
    "        return f\"{rank_name} of {suit_colors[Card.suit_list[card.suit]]}\"\n",
    "\n",
    "\n",
    "# Start the game\n",
    "if __name__ == \"__main__\":\n",
    "    game = HigherOrLowerGame()\n",
    "    while True:\n",
    "        game.start_game()\n",
    "        play_again = input(\"Do you want to play again? (y/n): \").lower()\n",
    "        if play_again != 'y':\n",
    "            print(\"🎉 Thanks for playing Higher or Lower! See you next time! 🎉\")\n",
    "            break\n"
   ]
  },
  {
   "cell_type": "code",
   "execution_count": null,
   "id": "2d0f67c5-01ba-4649-9b7e-529aedcf86fc",
   "metadata": {},
   "outputs": [],
   "source": []
  }
 ],
 "metadata": {
  "kernelspec": {
   "display_name": "Python 3 (ipykernel)",
   "language": "python",
   "name": "python3"
  },
  "language_info": {
   "codemirror_mode": {
    "name": "ipython",
    "version": 3
   },
   "file_extension": ".py",
   "mimetype": "text/x-python",
   "name": "python",
   "nbconvert_exporter": "python",
   "pygments_lexer": "ipython3",
   "version": "3.12.4"
  }
 },
 "nbformat": 4,
 "nbformat_minor": 5
}
