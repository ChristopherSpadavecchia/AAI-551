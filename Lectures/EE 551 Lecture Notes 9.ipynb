{
 "cells": [
  {
   "cell_type": "markdown",
   "metadata": {},
   "source": [
    "### Write a class with name ``Time``, and define a function with name ``printTime`` that prints hours, minutes and seconds."
   ]
  },
  {
   "cell_type": "code",
   "execution_count": null,
   "metadata": {},
   "outputs": [],
   "source": []
  },
  {
   "cell_type": "markdown",
   "metadata": {},
   "source": [
    "### Now, make ``printTime`` a method of a class."
   ]
  },
  {
   "cell_type": "code",
   "execution_count": null,
   "metadata": {},
   "outputs": [],
   "source": []
  },
  {
   "cell_type": "markdown",
   "metadata": {},
   "source": [
    "### Define a method ``increment`` that takes a value in terms of seconds and increments the time."
   ]
  },
  {
   "cell_type": "code",
   "execution_count": null,
   "metadata": {},
   "outputs": [],
   "source": []
  },
  {
   "cell_type": "markdown",
   "metadata": {},
   "source": [
    "### Define a method ``after`` that takes another Time object and return True if current time is later than the input time. CORRECTED"
   ]
  },
  {
   "cell_type": "code",
   "execution_count": null,
   "metadata": {},
   "outputs": [],
   "source": []
  },
  {
   "cell_type": "markdown",
   "metadata": {},
   "source": [
    "### Initialize the ``Time`` class so that it takes hours, minutes and seconds and creates attributes for each. Set the detault values to 0."
   ]
  },
  {
   "cell_type": "code",
   "execution_count": null,
   "metadata": {},
   "outputs": [],
   "source": []
  },
  {
   "cell_type": "markdown",
   "metadata": {},
   "source": [
    "### Write a ``Point`` class that takes x and y values and overwrite the print method so that the class prints (x, y) when called. The default values are 0."
   ]
  },
  {
   "cell_type": "code",
   "execution_count": null,
   "metadata": {},
   "outputs": [],
   "source": []
  },
  {
   "cell_type": "markdown",
   "metadata": {},
   "source": [
    "### Write a method for class ``Point`` that overwrites + so that it takes another ``Point`` class and return a class whose x and y values are summation of x and y attributes of two classes, respectively."
   ]
  },
  {
   "cell_type": "code",
   "execution_count": null,
   "metadata": {},
   "outputs": [],
   "source": []
  },
  {
   "cell_type": "markdown",
   "metadata": {},
   "source": [
    "### Write a method for class ``Point`` that overwrites * operator and returns dot product of two points."
   ]
  },
  {
   "cell_type": "code",
   "execution_count": null,
   "metadata": {},
   "outputs": [],
   "source": []
  },
  {
   "cell_type": "markdown",
   "metadata": {},
   "source": [
    "## Card Objects:"
   ]
  },
  {
   "cell_type": "markdown",
   "metadata": {},
   "source": [
    "There are 52 cards in a deck, each of which belongs to one of four suits and one of 13 ranks.\n",
    "\n",
    "The suits are Spades, Hearts, Diamonds, and Clubs (in descending order in bridge).\n",
    "The ranks are Ace, 2, 3, 4, 5, 6, 7, 8, 9, 10, Jack, Queen, and King."
   ]
  },
  {
   "cell_type": "markdown",
   "metadata": {},
   "source": [
    "If we want to define a new object to represent a playing card, it should have attributes for rank and suit."
   ]
  },
  {
   "cell_type": "markdown",
   "metadata": {},
   "source": [
    "Should we use strings? Numbers?\n",
    "\n",
    "Ans: Numbers!"
   ]
  },
  {
   "cell_type": "markdown",
   "metadata": {},
   "source": [
    "Encoding:\n",
    "\n",
    "* Spades => 3\n",
    "* Hearts => 2\n",
    "* Diamonds => 1\n",
    "* Clubs => 0\n",
    "\n",
    "* Ace => 1\n",
    "* Jack => 11\n",
    "* Queen => 12\n",
    "* King => 13"
   ]
  },
  {
   "cell_type": "markdown",
   "metadata": {},
   "source": [
    "### Define a class ``Card`` that takes ``suit`` and ``rank`` as input and creates attributes for those. The default values for ``suit`` is 0 and for ``rank`` is 2."
   ]
  },
  {
   "cell_type": "code",
   "execution_count": null,
   "metadata": {},
   "outputs": [],
   "source": [
    "class Card:\n",
    "    def __init__(self, suit = 0, rank = 2):\n",
    "        self.suit = suit\n",
    "        self.rank = rank\n",
    "\n",
    "c1 = Card(3,3)    "
   ]
  },
  {
   "cell_type": "markdown",
   "metadata": {},
   "source": [
    "### Overwrite ``print`` method so that people can easily read the card such as: 6 of Clubs, King of Diamonds."
   ]
  },
  {
   "cell_type": "code",
   "execution_count": 3,
   "metadata": {},
   "outputs": [
    {
     "name": "stdout",
     "output_type": "stream",
     "text": [
      "Jack of Diamonds\n"
     ]
    }
   ],
   "source": [
    "class Card:\n",
    "    suit_list = [\"Clubs\", \"Diamonds\", \"Hearts\", \"Spades\"]\n",
    "    rank_list = [\"None\", \"Ace\", \"2\", \"3\", \"4\", \"5\", \"6\", \"7\", \"8\", \"9\", \"10\", \"Jack\", \"Queen\", \"King\"]\n",
    "    def __init__(self, suit = 0, rank = 2):\n",
    "        self.suit = suit\n",
    "        self.rank = rank\n",
    "    def __str__(self):\n",
    "        return(self.rank_list[self.rank] + \" of \" + self.suit_list[self.suit])\n",
    "\n",
    "my_card = Card(1, 11)\n",
    "print(my_card)"
   ]
  },
  {
   "cell_type": "markdown",
   "metadata": {},
   "source": [
    "### Overwrite ``__gt__`` and ``__eq__`` that compares ``self`` and ``other``. Assume ``suit`` is more important than ``rank``."
   ]
  },
  {
   "cell_type": "code",
   "execution_count": 7,
   "metadata": {},
   "outputs": [
    {
     "name": "stdout",
     "output_type": "stream",
     "text": [
      "False\n"
     ]
    }
   ],
   "source": [
    "class Card:\n",
    "    suit_list = [\"Clubs\", \"Diamonds\", \"Hearts\", \"Spades\"]\n",
    "    rank_list = [\"None\", \"Ace\", \"2\", \"3\", \"4\", \"5\", \"6\", \"7\", \"8\", \"9\", \"10\", \"Jack\", \"Queen\", \"King\"]\n",
    "    def __init__(self, suit = 0, rank = 2):\n",
    "        self.suit = suit\n",
    "        self.rank = rank\n",
    "    def __str__(self):\n",
    "        return(self.rank_list[self.rank] + \" of \" + self.suit_list[self.suit])\n",
    "    def __eq__(self, other):\n",
    "        return(self.rank == other.rank and self.suit == other.suit)\n",
    "    def __gt__(self, other):\n",
    "        if self.suit > other.suit:\n",
    "            return True\n",
    "        elif self.suit == other.suit:\n",
    "            if self.rank > other.rank:\n",
    "                return True\n",
    "        return False\n",
    "\n",
    "c1 = Card(3, 4)\n",
    "c2 = Card(3, 5)\n",
    "print(c1 == c2)"
   ]
  },
  {
   "cell_type": "markdown",
   "metadata": {},
   "source": [
    "### Define a class ``Deck`` that has the attribute cards and the initialization generates 52 cards."
   ]
  },
  {
   "cell_type": "code",
   "execution_count": 8,
   "metadata": {},
   "outputs": [
    {
     "data": {
      "text/plain": [
       "52"
      ]
     },
     "execution_count": 8,
     "metadata": {},
     "output_type": "execute_result"
    }
   ],
   "source": [
    "class Deck:\n",
    "    def __init__(self):\n",
    "        self.cards = []\n",
    "        for suit in range(4):\n",
    "            for rank in range(1, 14):\n",
    "                self.cards.append(Card(suit, rank))\n",
    "\n",
    "d = Deck()\n",
    "len(d.cards)\n"
   ]
  },
  {
   "cell_type": "markdown",
   "metadata": {},
   "source": [
    "### Overwrite ``print`` method to print the contents of the deck so that each card is indented one space more than the previous card."
   ]
  },
  {
   "cell_type": "code",
   "execution_count": 11,
   "metadata": {},
   "outputs": [
    {
     "name": "stdout",
     "output_type": "stream",
     "text": [
      "Ace of Clubs\n",
      " 2 of Clubs\n",
      "  3 of Clubs\n",
      "   4 of Clubs\n",
      "    5 of Clubs\n",
      "     6 of Clubs\n",
      "      7 of Clubs\n",
      "       8 of Clubs\n",
      "        9 of Clubs\n",
      "         10 of Clubs\n",
      "          Jack of Clubs\n",
      "           Queen of Clubs\n",
      "            King of Clubs\n",
      "             Ace of Diamonds\n",
      "              2 of Diamonds\n",
      "               3 of Diamonds\n",
      "                4 of Diamonds\n",
      "                 5 of Diamonds\n",
      "                  6 of Diamonds\n",
      "                   7 of Diamonds\n",
      "                    8 of Diamonds\n",
      "                     9 of Diamonds\n",
      "                      10 of Diamonds\n",
      "                       Jack of Diamonds\n",
      "                        Queen of Diamonds\n",
      "                         King of Diamonds\n",
      "                          Ace of Hearts\n",
      "                           2 of Hearts\n",
      "                            3 of Hearts\n",
      "                             4 of Hearts\n",
      "                              5 of Hearts\n",
      "                               6 of Hearts\n",
      "                                7 of Hearts\n",
      "                                 8 of Hearts\n",
      "                                  9 of Hearts\n",
      "                                   10 of Hearts\n",
      "                                    Jack of Hearts\n",
      "                                     Queen of Hearts\n",
      "                                      King of Hearts\n",
      "                                       Ace of Spades\n",
      "                                        2 of Spades\n",
      "                                         3 of Spades\n",
      "                                          4 of Spades\n",
      "                                           5 of Spades\n",
      "                                            6 of Spades\n",
      "                                             7 of Spades\n",
      "                                              8 of Spades\n",
      "                                               9 of Spades\n",
      "                                                10 of Spades\n",
      "                                                 Jack of Spades\n",
      "                                                  Queen of Spades\n",
      "                                                   King of Spades\n",
      "\n"
     ]
    }
   ],
   "source": [
    "class Deck:\n",
    "    def __init__(self):\n",
    "        self.cards = []\n",
    "        for suit in range(4):\n",
    "            for rank in range(1, 14):\n",
    "                self.cards.append(Card(suit, rank))\n",
    "    def __str__(self):\n",
    "        s = \"\"\n",
    "        for i in range(len(self.cards)):\n",
    "            s += i * \" \" + str(self.cards[i]) + \"\\n\"\n",
    "        return s\n",
    "\n",
    "d = Deck()\n",
    "print(d)"
   ]
  },
  {
   "cell_type": "markdown",
   "metadata": {},
   "source": [
    "### Write a method ``shuffle`` that shuffles the cards in a deck. You can use ``randrange`` from ``random`` module."
   ]
  },
  {
   "cell_type": "code",
   "execution_count": 12,
   "metadata": {},
   "outputs": [
    {
     "data": {
      "text/plain": [
       "1"
      ]
     },
     "execution_count": 12,
     "metadata": {},
     "output_type": "execute_result"
    }
   ],
   "source": [
    "import random\n",
    "random.randrange(1, 8)"
   ]
  },
  {
   "cell_type": "code",
   "execution_count": 14,
   "metadata": {},
   "outputs": [
    {
     "name": "stdout",
     "output_type": "stream",
     "text": [
      "10 of Clubs\n",
      " 2 of Spades\n",
      "  2 of Diamonds\n",
      "   9 of Clubs\n",
      "    5 of Diamonds\n",
      "     Queen of Spades\n",
      "      4 of Hearts\n",
      "       Queen of Clubs\n",
      "        4 of Diamonds\n",
      "         2 of Hearts\n",
      "          6 of Hearts\n",
      "           3 of Diamonds\n",
      "            6 of Spades\n",
      "             5 of Hearts\n",
      "              7 of Hearts\n",
      "               4 of Clubs\n",
      "                5 of Clubs\n",
      "                 Jack of Spades\n",
      "                  10 of Hearts\n",
      "                   8 of Diamonds\n",
      "                    10 of Diamonds\n",
      "                     9 of Diamonds\n",
      "                      Ace of Spades\n",
      "                       Ace of Hearts\n",
      "                        3 of Spades\n",
      "                         4 of Spades\n",
      "                          10 of Spades\n",
      "                           9 of Hearts\n",
      "                            7 of Diamonds\n",
      "                             Ace of Diamonds\n",
      "                              7 of Clubs\n",
      "                               2 of Clubs\n",
      "                                King of Clubs\n",
      "                                 3 of Clubs\n",
      "                                  Queen of Hearts\n",
      "                                   3 of Hearts\n",
      "                                    6 of Diamonds\n",
      "                                     King of Diamonds\n",
      "                                      8 of Clubs\n",
      "                                       9 of Spades\n",
      "                                        8 of Hearts\n",
      "                                         5 of Spades\n",
      "                                          7 of Spades\n",
      "                                           Jack of Diamonds\n",
      "                                            Jack of Hearts\n",
      "                                             King of Spades\n",
      "                                              Ace of Clubs\n",
      "                                               Jack of Clubs\n",
      "                                                Queen of Diamonds\n",
      "                                                 6 of Clubs\n",
      "                                                  8 of Spades\n",
      "                                                   King of Hearts\n",
      "\n"
     ]
    }
   ],
   "source": [
    "import random\n",
    "\n",
    "class Deck:\n",
    "    def __init__(self):\n",
    "        self.cards = []\n",
    "        for suit in range(4):\n",
    "            for rank in range(1, 14):\n",
    "                self.cards.append(Card(suit, rank))\n",
    "    def __str__(self):\n",
    "        s = \"\"\n",
    "        for i in range(len(self.cards)):\n",
    "            s += i * \" \" + str(self.cards[i]) + \"\\n\"\n",
    "        return s\n",
    "    def shuffle(self):\n",
    "        n_cards = len(self.cards)\n",
    "        for i in range(n_cards):\n",
    "            j = random.randrange(0, n_cards)\n",
    "            self.cards[i], self.cards[j] = self.cards[j], self.cards[i]\n",
    "\n",
    "d = Deck()\n",
    "d.shuffle()\n",
    "print(d)\n",
    "            "
   ]
  },
  {
   "cell_type": "markdown",
   "metadata": {},
   "source": [
    "### Write method ``pop_card`` that removes the last card in the deck."
   ]
  },
  {
   "cell_type": "code",
   "execution_count": 15,
   "metadata": {},
   "outputs": [
    {
     "data": {
      "text/plain": [
       "3"
      ]
     },
     "execution_count": 15,
     "metadata": {},
     "output_type": "execute_result"
    }
   ],
   "source": [
    "L = [1, 2, 3]\n",
    "L.pop()"
   ]
  },
  {
   "cell_type": "code",
   "execution_count": null,
   "metadata": {},
   "outputs": [],
   "source": [
    "L"
   ]
  },
  {
   "cell_type": "code",
   "execution_count": null,
   "metadata": {},
   "outputs": [],
   "source": [
    "import random\n",
    "\n",
    "class Deck:\n",
    "    def __init__(self):\n",
    "        self.cards = []\n",
    "        for suit in range(4):\n",
    "            for rank in range(1, 14):\n",
    "                self.cards.append(Card(suit, rank))\n",
    "    def __str__(self):\n",
    "        s = \"\"\n",
    "        for i in range(len(self.cards)):\n",
    "            s += i * \" \" + str(self.cards[i]) + \"\\n\"\n",
    "        return s\n",
    "    def shuffle(self):\n",
    "        n_cards = len(self.cards)\n",
    "        for i in range(n_cards):\n",
    "            j = random.randrange(0, n_cards)\n",
    "            self.cards[i], self.cards[j] = self.cards[j], self.cards[i]\n",
    "    def pop_card(self):\n",
    "        return self.cards.pop()\n",
    "        "
   ]
  },
  {
   "cell_type": "markdown",
   "metadata": {},
   "source": [
    "### Write a method ``is_empty`` which returns True if the deck contains no cards."
   ]
  },
  {
   "cell_type": "code",
   "execution_count": null,
   "metadata": {},
   "outputs": [],
   "source": [
    "class Deck:\n",
    "    def __init__(self):\n",
    "        self.cards = []\n",
    "        for suit in range(4):\n",
    "            for rank in range(1, 14):\n",
    "                self.cards.append(Card(suit, rank))\n",
    "    def __str__(self):\n",
    "        s = \"\"\n",
    "        for i in range(len(self.cards)):\n",
    "            s += i * \" \" + str(self.cards[i]) + \"\\n\"\n",
    "        return s\n",
    "    def shuffle(self):\n",
    "        n_cards = len(self.cards)\n",
    "        for i inde range(n_cards):\n",
    "            j = random.randrange(0, n_cards)\n",
    "            self.cards[i], self.cards[j] = self.cards[j], self.cards[i]\n",
    "    def pop_card(self):\n",
    "        return self.cards.pop()\n",
    "    def is_empty(self):\n",
    "        return len(self.cards) == 0"
   ]
  },
  {
   "cell_type": "markdown",
   "metadata": {},
   "source": [
    "### Write a class for hand that is similar to a deck but we might want to perform operations for hand that don't make sense for deck."
   ]
  },
  {
   "cell_type": "code",
   "execution_count": null,
   "metadata": {},
   "outputs": [],
   "source": [
    "class Hand(Deck):\n",
    "    pass"
   ]
  },
  {
   "cell_type": "markdown",
   "metadata": {},
   "source": [
    "### Initialize the ``Hand`` with cards and names where name will be an input and default value is \"\"."
   ]
  },
  {
   "cell_type": "code",
   "execution_count": 17,
   "metadata": {},
   "outputs": [],
   "source": [
    "class Hand(Deck):\n",
    "    def __init__(self, name = \"\"):\n",
    "        self.cards = []\n",
    "        self.name = name"
   ]
  },
  {
   "cell_type": "markdown",
   "metadata": {},
   "source": [
    "### Write a method ``add_card`` that adds a card to the Hand."
   ]
  },
  {
   "cell_type": "code",
   "execution_count": null,
   "metadata": {},
   "outputs": [],
   "source": [
    "class Hand(Deck):\n",
    "    def __init__(self, name = \"\"):\n",
    "        self.cards = []\n",
    "        self.name = name\n",
    "    def add_card(self, card):\n",
    "        self.cards.append(card)"
   ]
  },
  {
   "cell_type": "markdown",
   "metadata": {},
   "source": [
    "### Write a method for ``Deck`` class that deals the card into hands. It takes two arguments: hands and number of cards."
   ]
  },
  {
   "cell_type": "code",
   "execution_count": 5,
   "metadata": {},
   "outputs": [],
   "source": [
    "class Deck:\n",
    "    def __init__(self):\n",
    "        self.cards = []\n",
    "        for suit in range(4):\n",
    "            for rank in range(1, 14):\n",
    "                self.cards.append(Card(suit, rank))\n",
    "    def __str__(self):\n",
    "        s = \"\"\n",
    "        for i in range(len(self.cards)):\n",
    "            s += i * \" \" + str(self.cards[i]) + \"\\n\"\n",
    "        return s\n",
    "    def shuffle(self):\n",
    "        n_cards = len(self.cards)\n",
    "        for i in range(n_cards):\n",
    "            j = random.randrange(0, n_cards)\n",
    "            self.cards[i], self.cards[j] = self.cards[j], self.cards[i]\n",
    "    def pop_card(self):\n",
    "        return self.cards.pop()\n",
    "    def is_empty(self):\n",
    "        return len(self.cards) == 0\n",
    "    def deal(self, hands, n_cards = 52):\n",
    "        n_players = len(hands)\n",
    "        for i in range(n_cards):\n",
    "            if self.is_empty():\n",
    "                break\n",
    "            card = self.pop_card()\n",
    "            current_player = i % n_players \n",
    "            hands[current_player].add_card(card)\n",
    "        \n",
    "        "
   ]
  },
  {
   "cell_type": "markdown",
   "metadata": {},
   "source": [
    "### Write a method for ``Hand`` that prints the hand such that \"Hand John contains ...\" or \"Hand John is empty\""
   ]
  },
  {
   "cell_type": "code",
   "execution_count": 11,
   "metadata": {},
   "outputs": [
    {
     "name": "stdout",
     "output_type": "stream",
     "text": [
      "Hand George contains \n",
      "3 of Hearts\n",
      " 6 of Clubs\n",
      "  King of Diamonds\n",
      "   King of Spades\n",
      "    9 of Spades\n",
      "\n",
      "Hand Dan contains \n",
      "9 of Diamonds\n",
      " Queen of Hearts\n",
      "  Queen of Diamonds\n",
      "   Ace of Spades\n",
      "    Jack of Hearts\n",
      "\n",
      "Hand Kevin contains \n",
      "Jack of Clubs\n",
      " King of Hearts\n",
      "  9 of Clubs\n",
      "   6 of Spades\n",
      "    9 of Hearts\n",
      "\n"
     ]
    }
   ],
   "source": [
    "import random\n",
    "class Hand(Deck):\n",
    "    def __init__(self, name = \"\"):\n",
    "        self.cards = []\n",
    "        self.name = name\n",
    "    def add_card(self, card):\n",
    "        self.cards.append(card)\n",
    "    def __str__(self):\n",
    "        s = \"Hand \" + self.name\n",
    "        if self.is_empty():\n",
    "            return s + \"is empty\"\n",
    "        s += \" contains \\n\" + Deck.__str__(self)\n",
    "        return s\n",
    "\n",
    "d = Deck()\n",
    "d.shuffle()\n",
    "hand1 = Hand(\"George\")\n",
    "hand2 = Hand(\"Dan\")\n",
    "hand3 = Hand(\"Kevin\")\n",
    "hands = [hand1, hand2, hand3]\n",
    "d.deal(hands, 15)\n",
    "print(hand1)\n",
    "print(hand2)\n",
    "print(hand3)\n"
   ]
  },
  {
   "cell_type": "markdown",
   "metadata": {},
   "source": [
    "### Write a ``CardGame`` class that creates a deck and shuffles it automatically."
   ]
  },
  {
   "cell_type": "code",
   "execution_count": null,
   "metadata": {},
   "outputs": [],
   "source": [
    "class CardGame():\n",
    "    def __init__(self):\n",
    "        self.deck = Deck()\n",
    "        self.deck.shuffle()\n",
    "        \n",
    "    "
   ]
  },
  {
   "cell_type": "code",
   "execution_count": null,
   "metadata": {},
   "outputs": [],
   "source": []
  },
  {
   "cell_type": "markdown",
   "metadata": {},
   "source": [
    "# Old Maid Hand Game (May Not Cover In Class)"
   ]
  },
  {
   "cell_type": "markdown",
   "metadata": {},
   "source": [
    "https://www.youtube.com/watch?v=2k1pHpGPMdc"
   ]
  },
  {
   "cell_type": "markdown",
   "metadata": {},
   "source": [
    "![alt text](../figures/cards.png)"
   ]
  },
  {
   "cell_type": "markdown",
   "metadata": {},
   "source": [
    "The object of Old Maid is to get rid of cards in your hand. You do this by matching cards by rank and color. For example, the 4 of Clubs matches the 4 of Spades since both suits are black. The Jack of Hearts matches the Jack of Diamonds since both are red.\n",
    "\n",
    "To begin the game, the Queen of Clubs is removed from the deck so that the Queen of Spades has no match. The fifty-one remaining cards are dealt to the players in a round robin. After the deal, all players match and discard as many cards as possible."
   ]
  },
  {
   "cell_type": "markdown",
   "metadata": {},
   "source": [
    "### Define ``OldMaidHand`` class that requires some abilities beyond the general abilities of a Hand. Write a method called ``remove_matches`` and returns the number of matches."
   ]
  },
  {
   "cell_type": "code",
   "execution_count": null,
   "metadata": {},
   "outputs": [],
   "source": []
  },
  {
   "cell_type": "markdown",
   "metadata": {},
   "source": [
    "### Demonstrate how to start a game and remove matches."
   ]
  },
  {
   "cell_type": "code",
   "execution_count": null,
   "metadata": {},
   "outputs": [],
   "source": []
  },
  {
   "cell_type": "markdown",
   "metadata": {},
   "source": [
    "### Write a class ``OldMaidGame`` that inherits ``CardGame`` and has a method that removes all the matches in all hands. You can assume the class has ``self.hands`` attribute."
   ]
  },
  {
   "cell_type": "code",
   "execution_count": null,
   "metadata": {},
   "outputs": [],
   "source": []
  },
  {
   "cell_type": "markdown",
   "metadata": {},
   "source": [
    "### Write a method ``find_neighbor`` that takes turn as an integer input and returns the index for the neighbor index."
   ]
  },
  {
   "cell_type": "code",
   "execution_count": null,
   "metadata": {},
   "outputs": [],
   "source": []
  },
  {
   "cell_type": "markdown",
   "metadata": {},
   "source": [
    "### Write a method ``play_one_turn`` that takes an argument ``turn`` that indicates whose turn it is. The return value is the number of matches made during this turn."
   ]
  },
  {
   "cell_type": "code",
   "execution_count": null,
   "metadata": {},
   "outputs": [],
   "source": []
  },
  {
   "cell_type": "markdown",
   "metadata": {},
   "source": [
    "### Write a method ``print_hands`` to print hands of all players."
   ]
  },
  {
   "cell_type": "code",
   "execution_count": null,
   "metadata": {},
   "outputs": [],
   "source": []
  },
  {
   "cell_type": "markdown",
   "metadata": {},
   "source": [
    "### Write a method ``play`` that takes a list of names as an input; \n",
    "* removes Queen of Clubs, \n",
    "* makes a hand for each player\n",
    "* deals the cards; print \"cards have been dealt\"\n",
    "* prints hands\n",
    "* removes initial matches\n",
    "* prints hands\n",
    "* play until all 50 cards are matched\n",
    "* prints hands"
   ]
  },
  {
   "cell_type": "code",
   "execution_count": null,
   "metadata": {},
   "outputs": [],
   "source": []
  },
  {
   "cell_type": "code",
   "execution_count": null,
   "metadata": {},
   "outputs": [],
   "source": []
  },
  {
   "cell_type": "code",
   "execution_count": null,
   "metadata": {},
   "outputs": [],
   "source": []
  }
 ],
 "metadata": {
  "kernelspec": {
   "display_name": "Python 3 (ipykernel)",
   "language": "python",
   "name": "python3"
  },
  "language_info": {
   "codemirror_mode": {
    "name": "ipython",
    "version": 3
   },
   "file_extension": ".py",
   "mimetype": "text/x-python",
   "name": "python",
   "nbconvert_exporter": "python",
   "pygments_lexer": "ipython3",
   "version": "3.12.4"
  }
 },
 "nbformat": 4,
 "nbformat_minor": 4
}
